{
  "nbformat": 4,
  "nbformat_minor": 0,
  "metadata": {
    "colab": {
      "provenance": [],
      "mount_file_id": "1oC7oGfRcyPshZeaveMn3dB_cD43KZ01B",
      "authorship_tag": "ABX9TyOWjvjpqqisHp2YaYncBFop",
      "include_colab_link": true
    },
    "kernelspec": {
      "name": "python3",
      "display_name": "Python 3"
    },
    "language_info": {
      "name": "python"
    }
  },
  "cells": [
    {
      "cell_type": "markdown",
      "metadata": {
        "id": "view-in-github",
        "colab_type": "text"
      },
      "source": [
        "<a href=\"https://colab.research.google.com/github/Huriyeozcan/hu-bby162-2023/blob/main/final.ipynb\" target=\"_parent\"><img src=\"https://colab.research.google.com/assets/colab-badge.svg\" alt=\"Open In Colab\"/></a>"
      ]
    },
    {
      "cell_type": "markdown",
      "source": [
        "Bu alanda Huriye Özcan'ın \"final\" çalısması yer almaktadır. Aşağıda belirtilen \"Final Projesi\" özellikleri doğrultusunda yapılmıştır.\n",
        "\n",
        "FİNAL PROJESİ\n",
        "\n",
        "Final projesi özellikleri aşağıda tanımlanmış bir katalog uygulaması olacaktır. Bu katalog uygulamasında girilen veriler metin dosyasında depolanabilecek ve bu metin dosyasından okunarak işleme tabi tutulabilecektir. Final projesi 40 puandır.\n",
        "\n",
        "\n",
        "Final projeniz GitHub hesabınız altındaki 2023 deponuzda yer almalıdır. Depo içinde projenin adı \"final.ipynb\", verilerinizin kaydedileceği dosyanın adı ise \"veri.txt\" olmalıdır. Final sınavının olduğu gün ve saatte her öğrenci kendi projesini çevrimiçi olarak sunacaktır ve sorulara cevap verecektir.\n",
        "\n",
        "\n",
        "Not: Yazdığınız kodların ne işe yaradığını bilmeniz ve bunu açıklayabilmeniz çok önemlidir, aksi halde o bölümden puan almanız mümkün olmayacaktır.\n",
        "\n",
        "\n",
        "Projenin sahip olması gereken özellikler:\n",
        "\n",
        "1. Katalog uygulamasının ilk açılışında yapılabilecek işlemlerin listesinin yer \n",
        "aldığı bir menü otomatik olarak başlamalıdır.\n",
        "2. Uygulama menüden çıkış yapılmadan sonlanmamalıdır.\n",
        "3. Katalogdaki eserler listelenebilmelidir.\n",
        "4. Kataloğa yeni bir eser eklenebilmelidir.\n",
        "5. Katalogda seçilen bir eser silinebilmelidir.\n",
        "6. Katalogda seçilen bir eser güncellenebilmelidir.\n",
        "7. Katalog tamamen temizlenebilmelidir.\n",
        "8. Katalogda basit bir arama yapılabilmelidir, arama sonucunda eşleşen kayıtlar listelenmelidir.\n",
        "9. Katalogdaki her bir eserin sahip olması gereken alanlar şu şekildedir:\n",
        " \n",
        " Eser Adı\n",
        " \n",
        " Yazar Adı\n",
        " \n",
        " Basım Yılı\n",
        "\n",
        "Yukarıda yer alan tüm özellikler klavyeden girilen bilgiler ile işlem görmelidir, son kullanıcının koda müdahale etmesi gerekmemelidir. \n",
        "\n",
        "Verilerin depolanacağı \"veri.txt\" dosyasında örnek olarak 4-5 kayıt girilmiş olmalıdır."
      ],
      "metadata": {
        "id": "7FiE5UIgqJxV"
      }
    },
    {
      "cell_type": "code",
      "source": [
        "#Katalog Uygulaması\n",
        "\n",
        "dosya = \"/content/drive/MyDrive/veri.txt\"\n",
        "\n",
        "def menu():\n",
        "  print(\"Menü: \" + \"0.Çıkış\" + \"1.Listele\" + \"2.Eser ekle\" + \"3.Katalogu temizle\" + \"4.Katalogu güncelleme\" + \"5.Katalogu silme\")\n",
        "  sec = input(\"Yapacağınız işlemi seçiniz(0/1/2/3/4/5): \")\n",
        "  if sec == \"0\":\n",
        "    print(\"Program sonlandırılıyor.\")\n",
        "  elif sec == \"1\":\n",
        "    listele()\n",
        "  elif sec == \"2\":\n",
        "    ekle()\n",
        "  elif sec == \"3\":\n",
        "    temizle()\n",
        "  elif sec == \"4\":\n",
        "    guncelle()\n",
        "  elif sec == \"5\":\n",
        "    silme()    \n",
        "  else:\n",
        "    print(\"Lütfen bunlardan birini seçiniz(0/1/2/3/4/5): \")\n",
        "    menu()\n",
        "\n",
        "def ekle():\n",
        "  eklenecekKitabınAdı = input(\"Eser Adı: \")\n",
        "  eklenecekYazarAdı = input(\"Yazar Adı: \")\n",
        "  eklenecekYıl = input(\"Basım Yılı: \")\n",
        "  kitap = f\"{eklenecekKitabınAdı},{eklenecekYazarAdı},{eklenecekYıl}\\n\"\n",
        "  with open(dosya, \"a\") as file:\n",
        "    file.write(kitap)\n",
        "  print(\"Kitap kataloga eklenmiştir.\")\n",
        "  menu()\n",
        "\n",
        "def temizle():\n",
        "  islem = open(dosya, \"r\")\n",
        "  islem.close()\n",
        "  menu()  \n",
        "\n",
        "def guncelle():\n",
        "    eserAdi = input(\"Güncellenecek Eser Adı: \")\n",
        "    yeniEserAdi = input(\"Yeni Eser Adı: \")\n",
        "    yeniYazarAdi = input(\"Yeni Yazar Adı: \")\n",
        "    yeniBasimYili = input(\"Yeni Basım Yılı: \")\n",
        "\n",
        "    with open(dosya, \"r\") as file:\n",
        "        satirlar = file.readlines()\n",
        "\n",
        "    with open(dosya, \"w\") as file:\n",
        "        for satir in satirlar:\n",
        "            eser = satir.strip().split(\",\")\n",
        "            if eser[0] == eserAdi:\n",
        "                file.write(f\"{yeniEserAdi},{yeniYazarAdi},{yeniBasimYili}\\n\")\n",
        "            else:\n",
        "                dosya.write(satir)        \n",
        "                menu()\n",
        "\n",
        "def silme():\n",
        "  silinecekEserAdı = input(\"Silinecek eserin adını giriniz: \")  \n",
        "  kitaplar = []\n",
        "  with open(dosya, \"r\") as file:\n",
        "    kitaplar = file.readlines()\n",
        "  with open(dosya,\"w\") as file:\n",
        "    for eser in kitaplar:\n",
        "      if eser.split(\",\")[0] != silinecekEserAdı:\n",
        "        file.write(eser)\n",
        "        menu()  \n",
        "\n",
        "\n",
        "def listele():\n",
        "  islem = open(dosya, \"r\")\n",
        "  for satir in islem:\n",
        "    print(satir.strip())\n",
        "  islem.close()\n",
        "  menu()\n",
        "\n",
        "menu()"
      ],
      "metadata": {
        "colab": {
          "base_uri": "https://localhost:8080/"
        },
        "id": "hZ_6Um7KnvpL",
        "outputId": "cdcdb8a1-77a4-4173-c4e0-7c41f1b800e1"
      },
      "execution_count": 1,
      "outputs": [
        {
          "output_type": "stream",
          "name": "stdout",
          "text": [
            "Menü: 0)Çıkış1)Listele2)Eser ekle3)Katalogu temizle4.Katalogu güncelleme5.Katalogu silme\n",
            "Yapacağınız işlemi seçiniz(0/1/2/3/4/5): 1\n",
            "Simyacı | Paulo Coelho | 1988\n",
            "Notre Dame'ın Kamburu | Victor Hugo | 1831\n",
            "İlahi Komeedya | Dante Alighieri | 1472\n",
            "Doğunun Limanları | Amin Maalouf | 1996\n",
            "Menü: 0)Çıkış1)Listele2)Eser ekle3)Katalogu temizle4.Katalogu güncelleme5.Katalogu silme\n",
            "Yapacağınız işlemi seçiniz(0/1/2/3/4/5): 2\n",
            "Eser Adı: Gurur ve Önyargı\n",
            "Yazar Adı: Jane  Austen\n",
            "Basım Yılı: 1813\n",
            "Kitap kataloga eklenmiştir.\n",
            "Menü: 0)Çıkış1)Listele2)Eser ekle3)Katalogu temizle4.Katalogu güncelleme5.Katalogu silme\n",
            "Yapacağınız işlemi seçiniz(0/1/2/3/4/5): 0\n",
            "Program sonlandırılıyor.\n"
          ]
        }
      ]
    }
  ]
}