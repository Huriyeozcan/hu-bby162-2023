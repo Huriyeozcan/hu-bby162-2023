{
  "nbformat": 4,
  "nbformat_minor": 0,
  "metadata": {
    "colab": {
      "provenance": [],
      "authorship_tag": "ABX9TyPrZPJ7lMZXjc3JvM+GYuds",
      "include_colab_link": true
    },
    "kernelspec": {
      "name": "python3",
      "display_name": "Python 3"
    },
    "language_info": {
      "name": "python"
    }
  },
  "cells": [
    {
      "cell_type": "markdown",
      "metadata": {
        "id": "view-in-github",
        "colab_type": "text"
      },
      "source": [
        "<a href=\"https://colab.research.google.com/github/Huriyeozcan/hu-bby162-2023/blob/main/Proje2.ipynb\" target=\"_parent\"><img src=\"https://colab.research.google.com/assets/colab-badge.svg\" alt=\"Open In Colab\"/></a>"
      ]
    },
    {
      "cell_type": "markdown",
      "source": [
        "Bu alanda Huriye Özcan'ın \"Proje2\" çalışması bulunmaktadır. Bu çalışmada adam asmaca oyununun tüm fonksiyonlarıyla tanımlanmış olması istenmektedir. Oyunun sahip olması gerek özellikler:\n",
        "\n",
        "Oyun ilk başladığında kullanıcıya oynayacağı seviye sorulmalıdır:\n",
        " \n",
        "  Basit seviye seçildiğinde 5 can,\n",
        "  \n",
        "  Orta seviye seçidiğinde 3 can,\n",
        " \n",
        "  ileri seviye seçildiğinde 1 can belirlenerek oyunun oynanması sağlanmalıdır.\n",
        "\n",
        "Oyunda tahmin edilmesi gereken kelime ve o kelime ile ilgili ipucu bir sözlük yapısı içinde yer almalıdır. Oyun her çalıştığında farklı bir sözcüğün tahmin edileceği yapı oluşturulmalıdır.\n",
        "\n",
        "Oyun, kelimenin doğru tahmini ya da can tükenmesi durumund asonlandığında uygun dönüt verilmeli, oyunun yeniden oynanıp oynanmayacağı sorulmalıdır. Yeniden oynanmak istenirse oyun başlatılmalı, aksi halde program sonlandırılmalıdır.\n",
        "\n",
        "\n",
        "\n",
        "\n"
      ],
      "metadata": {
        "id": "l6PqRM-m2lzI"
      }
    },
    {
      "cell_type": "code",
      "execution_count": null,
      "metadata": {
        "colab": {
          "base_uri": "https://localhost:8080/"
        },
        "id": "edOTxo6p2lS9",
        "outputId": "38dc2862-96eb-4c0d-c379-942d46912e07"
      },
      "outputs": [
        {
          "output_type": "stream",
          "name": "stdout",
          "text": [
            "Oynamak istediğiniz seviyeyi seçiniz (Basit seviye, Orta seviye, İleri seviye): Orta seviye\n",
            "Kategori:  kitap\n",
            "İpucu: Kelimenin uzunluğu 7\n",
            "['_', '_', '_', '_', '_', '_', '_']\n",
            "Bir harf giriniz: b\n",
            "Yanlış tahmin! Kalan can: 2\n",
            "['_', '_', '_', '_', '_', '_', '_']\n",
            "Bir harf giriniz: t\n",
            "['t', '_', '_', '_', '_', '_', '_']\n",
            "Bir harf giriniz: e\n",
            "['t', 'e', '_', 'e', '_', '_', '_']\n",
            "Bir harf giriniz: n\n",
            "['t', 'e', '_', 'e', '_', '_', 'n']\n",
            "Bir harf giriniz: a\n",
            "Yanlış tahmin! Kalan can: 1\n",
            "['t', 'e', '_', 'e', '_', '_', 'n']\n",
            "Bir harf giriniz: s\n",
            "Yanlış tahmin! Kalan can: 0\n",
            "['t', 'e', '_', 'e', '_', '_', 'n']\n",
            "Malesef canlarınız tükendi. Doğru kelime: telefon\n",
            "Tekrar oynamak istiyor musunuz? (Evet/Hayır)Evet\n",
            "Oynadığınız için teşekkürler!\n"
          ]
        }
      ],
      "source": [
        "import random\n",
        "\n",
        "sozluk = [\"bilgisayar\", \"araba\", \"telefon\", \"kitap\"]\n",
        "\n",
        "def adam_asmaca():\n",
        "    canlar = {\"Basit seviye\":5, \"Orta seviye\": 3, \"İleri seviye\": 1}\n",
        "    while True: \n",
        "        seviye = input(\"Oynamak istediğiniz seviyeyi seçiniz (Basit seviye, Orta seviye, İleri seviye): \")\n",
        "        if seviye in canlar:\n",
        "            adamCan = canlar[seviye]\n",
        "            break\n",
        "        else:\n",
        "            print(\"Geçersiz seviye! Lütfen tekrar deneyin.\")\n",
        "     \n",
        "    kategori = random.choice(sozluk)\n",
        "    secilenKelime = random.choice(sozluk)\n",
        "    dizilenKelime = [\"_\" for harf in secilenKelime]\n",
        "\n",
        "    print(\"Kategori: \", kategori)\n",
        "    print(\"İpucu: Kelimenin uzunluğu\", len(secilenKelime))\n",
        "    print(dizilenKelime)\n",
        "\n",
        "    while adamCan > 0:\n",
        "         girilenHarf = input(\"Bir harf giriniz: \").lower()\n",
        "         if girilenHarf in secilenKelime:\n",
        "             for i in range(len(secilenKelime)):\n",
        "                 if secilenKelime[i] == girilenHarf:\n",
        "                     dizilenKelime[i] = girilenHarf\n",
        "             if \"_\" not in dizilenKelime:\n",
        "                 print(\"Tebrikler! Kelimeyi doğru tahmin ettiniz.\")\n",
        "                 break\n",
        "         else:\n",
        "             adamCan -= 1\n",
        "             print(\"Yanlış tahmin! Kalan can:\", adamCan)\n",
        "\n",
        "         print(dizilenKelime)\n",
        "\n",
        "    if adamCan == 0:\n",
        "         print(\"Malesef canlarınız tükendi. Doğru kelime:\", secilenKelime)\n",
        "\n",
        "    yenidenOyna = input(\"Tekrar oynamak istiyor musunuz? (Evet/Hayır)\").lower()\n",
        "    if yenidenOyna == \"Evet\":\n",
        "         adam_asmaca()\n",
        "    else:\n",
        "         print(\"Oynadığınız için teşekkürler!\")\n",
        "\n",
        "adam_asmaca() "
      ]
    }
  ]
}