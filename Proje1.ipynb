{
  "nbformat": 4,
  "nbformat_minor": 0,
  "metadata": {
    "colab": {
      "provenance": [],
      "authorship_tag": "ABX9TyP7nV3ctHatm9p/DAHv3uwp",
      "include_colab_link": true
    },
    "kernelspec": {
      "name": "python3",
      "display_name": "Python 3"
    },
    "language_info": {
      "name": "python"
    }
  },
  "cells": [
    {
      "cell_type": "markdown",
      "metadata": {
        "id": "view-in-github",
        "colab_type": "text"
      },
      "source": [
        "<a href=\"https://colab.research.google.com/github/Huriyeozcan/hu-bby162-2023/blob/main/Proje1.ipynb\" target=\"_parent\"><img src=\"https://colab.research.google.com/assets/colab-badge.svg\" alt=\"Open In Colab\"/></a>"
      ]
    },
    {
      "cell_type": "markdown",
      "source": [
        "Bu alanda Huriye Özcan'ın \"Proje1\" çalışması bulunmaktadır. Aşağıda yapılacaklar listesi oluşturularak yeni görev ekleme, input ile giriş yapma, istenilen kısımı silme ve listenin tamamını silme işlemi yapılacaktır."
      ],
      "metadata": {
        "id": "ZJ4dj8eGRXan"
      }
    },
    {
      "cell_type": "code",
      "execution_count": null,
      "metadata": {
        "id": "75YDzbTDNkwy",
        "colab": {
          "base_uri": "https://localhost:8080/"
        },
        "outputId": "fffb9e08-48aa-4538-f3e6-55450588fbc1"
      },
      "outputs": [
        {
          "output_type": "stream",
          "name": "stdout",
          "text": [
            "['online derse girme', 'ödevleri tamamlama', 'ödevleri tealim etme']\n"
          ]
        }
      ],
      "source": [
        "#Yapılacaklar listesinin oluşturulması\n",
        "yapilacaklarListesi = [\"online derse girme\", \"ödevleri tamamlama\", \"ödevleri tealim etme\"]\n",
        "print(yapilacaklarListesi)"
      ]
    },
    {
      "cell_type": "code",
      "source": [
        "#Listeye yeni görev ekleme\n",
        "yapilacaklarListesi += [\"yemek yeme\"]\n",
        "print(yapilacaklarListesi)"
      ],
      "metadata": {
        "colab": {
          "base_uri": "https://localhost:8080/"
        },
        "id": "5jWPtsbNPgDN",
        "outputId": "c2d6aeda-857f-440b-cf2f-18dd3676c854"
      },
      "execution_count": null,
      "outputs": [
        {
          "output_type": "stream",
          "name": "stdout",
          "text": [
            "['online derse girme', 'ödevleri tamamlama', 'ödevleri tealim etme', 'yemek yeme']\n"
          ]
        }
      ]
    },
    {
      "cell_type": "code",
      "source": [
        "#input ile yeni görev girişi yapma\n",
        "görev = input(\"Yeni görevi giriniz: \")\n",
        "yapilacaklarListesi.append(görev)\n",
        "print(yapilacaklarListesi)\n"
      ],
      "metadata": {
        "colab": {
          "base_uri": "https://localhost:8080/"
        },
        "id": "vkOkMFqLPy_5",
        "outputId": "6008eb87-a2f9-4aa6-a72a-f43cb3f4a2ae"
      },
      "execution_count": null,
      "outputs": [
        {
          "output_type": "stream",
          "name": "stdout",
          "text": [
            "Yeni görevi giriniz: arkadaşlarla buluşma\n",
            "['online derse girme', 'ödevleri tamamlama', 'ödevleri tealim etme', 'yemek yeme', 'arkadaşlarla buluşma']\n"
          ]
        }
      ]
    },
    {
      "cell_type": "code",
      "source": [
        "#istenilen görevlerin silinmesi\n",
        "yapilacaklarListesi[2:4] = []\n",
        "print(yapilacaklarListesi)"
      ],
      "metadata": {
        "colab": {
          "base_uri": "https://localhost:8080/"
        },
        "id": "llvkoT6pQbPM",
        "outputId": "626bbd61-9775-473d-981c-ed3d5b8e518f"
      },
      "execution_count": null,
      "outputs": [
        {
          "output_type": "stream",
          "name": "stdout",
          "text": [
            "['online derse girme', 'ödevleri tamamlama', 'arkadaşlarla buluşma']\n"
          ]
        }
      ]
    },
    {
      "cell_type": "code",
      "source": [
        "#Tüm listenin silinme işlemi\n",
        "yapilacaklarListesi[ : ] = []\n",
        "print(yapilacaklarListesi)"
      ],
      "metadata": {
        "colab": {
          "base_uri": "https://localhost:8080/"
        },
        "id": "8zEZNvjYRGo_",
        "outputId": "abbc7628-3897-4f6e-cef0-01bd1cc8bc1e"
      },
      "execution_count": null,
      "outputs": [
        {
          "output_type": "stream",
          "name": "stdout",
          "text": [
            "[]\n"
          ]
        }
      ]
    }
  ]
}